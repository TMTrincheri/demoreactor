{
  "nbformat": 4,
  "nbformat_minor": 0,
  "metadata": {
    "colab": {
      "provenance": [],
      "include_colab_link": true
    },
    "kernelspec": {
      "name": "python3",
      "display_name": "Python 3"
    }
  },
  "cells": [
    {
      "cell_type": "markdown",
      "metadata": {
        "id": "view-in-github",
        "colab_type": "text"
      },
      "source": [
        "<a href=\"https://colab.research.google.com/github/TMTrincheri/demoreactor/blob/main/Copia_de_00_Inicios_en_Python.ipynb\" target=\"_parent\"><img src=\"https://colab.research.google.com/assets/colab-badge.svg\" alt=\"Open In Colab\"/></a>"
      ]
    },
    {
      "cell_type": "markdown",
      "metadata": {
        "id": "LYvAOR2VzHmW"
      },
      "source": [
        "\n",
        "**Diplomatura en Ciencia de Datos, Aprendizaje Automático y sus Aplicaciones**\n",
        "\n",
        "**Edición 2023**\n",
        "\n",
        "---\n",
        "# Aplicaciones en Python\n",
        "\n",
        "La idea de esta notebook es poder introducir algunos conceptos básicos de estadistica descriptiva y sus aplicaciones en Python. Intentaremos familiarizarnos con algunos \n",
        "conceptos (librerias, paquetes y funciones) que nos facilitaran el camino hacia la manipulacion y procesamiento de los datos. "
      ]
    },
    {
      "cell_type": "markdown",
      "source": [
        "## Herramientas de trabajo \n",
        "En esta oportunidad vamos a utilizar el lenguaje de programación Python junto con Google Colab para realizar nuestro primer analisis de la encuesta de sueldos. Recorda que Colab es un servicio cloud basado en los Notebooks de Jupyter, por lo tanto no es necesario descargar nada. A su vez, nos iniciaremos en un primer uso de herramientas de software libre, es decir no necesitas una licencia para porder utilizarlas. \n",
        "\n",
        "<center>\n",
        "<img src=\"https://i.imgur.com/Cq52LcH.png\" height=\"150\" />\n",
        "</center>\n",
        "\n"
      ],
      "metadata": {
        "id": "mScAXU4Fd9re"
      }
    },
    {
      "cell_type": "markdown",
      "source": [
        "## Pero primero: ¡Hola mundo!\n",
        "Si es tu primer experiencia con Python, usá la celda de acá abajo para probar tu primer línea de código. Para imprimirlo en pantalla escribimos print(\"Hola mundo!\")"
      ],
      "metadata": {
        "id": "uB9-nvVAeLRC"
      }
    },
    {
      "cell_type": "code",
      "source": [
        "print(\"hola mundo! bienvenidos a la Diplo!!\") # Probá acá"
      ],
      "metadata": {
        "id": "j5svoTz2eRkW",
        "colab": {
          "base_uri": "https://localhost:8080/"
        },
        "outputId": "458ce59b-b92a-4028-a87e-281fbfde7bea"
      },
      "execution_count": null,
      "outputs": [
        {
          "output_type": "stream",
          "name": "stdout",
          "text": [
            "hola mundo! bienvenidos a la Diplo!!\n"
          ]
        }
      ]
    },
    {
      "cell_type": "markdown",
      "source": [
        "## ¿Que es \"EDA\"? \n",
        "\n",
        "En sus siglas en inglés hace referencia al **Análisis Exploratorio de Datos**. Este es el primer paso que debemos realizar como Data Scientists y consta de una primera revisión del estado de los datos y los consecuentes pasos necesarios para una correcta transformación.\n",
        "\n",
        "La ciencia de datos es una disciplina que te permite convertir datos crudos en entendimiento, comprensión y conocimiento.\n",
        "\n",
        "<center>\n",
        "<img src=\"https://i.imgur.com/jclXnDS.png\" height=\"200\" />\n",
        "</center>\n",
        "\n",
        "\n",
        "En este sentido, el primer objetivo radica en preguntarnos **¿De qué se trata este dataset?**"
      ],
      "metadata": {
        "id": "MwB8UHuie9Qh"
      }
    },
    {
      "cell_type": "markdown",
      "source": [
        "## Importación de librerías\n",
        "\n",
        "El concepto correcto en español es \"biblioteca\". Una biblioteca es básicamente un componente de software que nos brinda acceso a distintas funcionalidades.\n",
        "Existen librerías con funciones para leer un archivo excel o csv y trabajar los datos como tablas (librería Pandas, por ejemplo), otras con funciones para graficar nuestros datos (como Seaborn), para trabajar con cálculo numérico (como Numpy).\n",
        "Cualquiera sea el lenguaje con el que se decida programar, será útil conocer mediante la página oficial del lenguaje cuáles son las librerías disponibles, que nos facilitarán, en éste caso, el análisis de datos."
      ],
      "metadata": {
        "id": "tqGTauDXerBG"
      }
    },
    {
      "cell_type": "code",
      "source": [
        "import matplotlib\n",
        "import matplotlib.pyplot as plt\n",
        "import numpy as np\n",
        "import pandas as pd\n",
        "import seaborn as sns\n",
        "\n",
        "sns.set(rc={'figure.figsize':(10,6)})"
      ],
      "metadata": {
        "id": "mlMM0JkSeqkw"
      },
      "execution_count": 1,
      "outputs": []
    },
    {
      "cell_type": "markdown",
      "source": [
        "# Leer dataset Encuesta Sysarmy en formato csv\n",
        "\n",
        "En esta primera notebook, aprendemos cómo cargar un conjunto de datos utilizando pandas y cómo ver su contenido.\n",
        "\n",
        "Durante la materia, se trabajará con la Encuesta Sysarmy del año 2022 versión 2. Se trata de una encuesta personal y voluntaria que busca relevar información sobre salarios y condiciones de trabajo de programadores, que se realiza anualmente.\n",
        "\n",
        "Se analizarán sólo los datos provenientes de Argentina\n",
        "\n",
        "\n",
        "[Link a los datos](https://sysarmy.com/blog/posts/resultados-de-la-encuesta-de-sueldos-2022-2/)"
      ],
      "metadata": {
        "id": "szPK4onQdemj"
      }
    },
    {
      "cell_type": "markdown",
      "metadata": {
        "id": "XY2Hl-Ma07Nn"
      },
      "source": [
        "## ¿Cómo leer datos desde un archivo utilizando pandas?\n"
      ]
    },
    {
      "cell_type": "code",
      "metadata": {
        "id": "Xwdfo7z20TUK"
      },
      "source": [
        "import io\n",
        "import pandas as pd\n",
        "\n",
        "pd.set_option('display.max_rows', 4)"
      ],
      "execution_count": 2,
      "outputs": []
    },
    {
      "cell_type": "markdown",
      "metadata": {
        "id": "2K03a1xA1Jfv"
      },
      "source": [
        "### Subiendo el archivo al entorno de Colaboratory\n",
        "\n",
        "Colaboratory no tiene acceso a nuestro sistema de archivos local (¡menos mal!). Por ello, para poder leer un archivo, primero debemos subirlo a la nube. Eso se logra con:"
      ]
    },
    {
      "cell_type": "code",
      "metadata": {
        "id": "GjE6NSRdx9d4",
        "colab": {
          "base_uri": "https://localhost:8080/",
          "height": 38
        },
        "outputId": "357b5c84-f16f-44db-e0a8-11995383ae0e"
      },
      "source": [
        "from google.colab import files\n",
        "uploaded = files.upload()"
      ],
      "execution_count": 3,
      "outputs": [
        {
          "output_type": "display_data",
          "data": {
            "text/plain": [
              "<IPython.core.display.HTML object>"
            ],
            "text/html": [
              "\n",
              "     <input type=\"file\" id=\"files-4250c07c-f08a-4885-a6ca-d61c94681dc6\" name=\"files[]\" multiple disabled\n",
              "        style=\"border:none\" />\n",
              "     <output id=\"result-4250c07c-f08a-4885-a6ca-d61c94681dc6\">\n",
              "      Upload widget is only available when the cell has been executed in the\n",
              "      current browser session. Please rerun this cell to enable.\n",
              "      </output>\n",
              "      <script>// Copyright 2017 Google LLC\n",
              "//\n",
              "// Licensed under the Apache License, Version 2.0 (the \"License\");\n",
              "// you may not use this file except in compliance with the License.\n",
              "// You may obtain a copy of the License at\n",
              "//\n",
              "//      http://www.apache.org/licenses/LICENSE-2.0\n",
              "//\n",
              "// Unless required by applicable law or agreed to in writing, software\n",
              "// distributed under the License is distributed on an \"AS IS\" BASIS,\n",
              "// WITHOUT WARRANTIES OR CONDITIONS OF ANY KIND, either express or implied.\n",
              "// See the License for the specific language governing permissions and\n",
              "// limitations under the License.\n",
              "\n",
              "/**\n",
              " * @fileoverview Helpers for google.colab Python module.\n",
              " */\n",
              "(function(scope) {\n",
              "function span(text, styleAttributes = {}) {\n",
              "  const element = document.createElement('span');\n",
              "  element.textContent = text;\n",
              "  for (const key of Object.keys(styleAttributes)) {\n",
              "    element.style[key] = styleAttributes[key];\n",
              "  }\n",
              "  return element;\n",
              "}\n",
              "\n",
              "// Max number of bytes which will be uploaded at a time.\n",
              "const MAX_PAYLOAD_SIZE = 100 * 1024;\n",
              "\n",
              "function _uploadFiles(inputId, outputId) {\n",
              "  const steps = uploadFilesStep(inputId, outputId);\n",
              "  const outputElement = document.getElementById(outputId);\n",
              "  // Cache steps on the outputElement to make it available for the next call\n",
              "  // to uploadFilesContinue from Python.\n",
              "  outputElement.steps = steps;\n",
              "\n",
              "  return _uploadFilesContinue(outputId);\n",
              "}\n",
              "\n",
              "// This is roughly an async generator (not supported in the browser yet),\n",
              "// where there are multiple asynchronous steps and the Python side is going\n",
              "// to poll for completion of each step.\n",
              "// This uses a Promise to block the python side on completion of each step,\n",
              "// then passes the result of the previous step as the input to the next step.\n",
              "function _uploadFilesContinue(outputId) {\n",
              "  const outputElement = document.getElementById(outputId);\n",
              "  const steps = outputElement.steps;\n",
              "\n",
              "  const next = steps.next(outputElement.lastPromiseValue);\n",
              "  return Promise.resolve(next.value.promise).then((value) => {\n",
              "    // Cache the last promise value to make it available to the next\n",
              "    // step of the generator.\n",
              "    outputElement.lastPromiseValue = value;\n",
              "    return next.value.response;\n",
              "  });\n",
              "}\n",
              "\n",
              "/**\n",
              " * Generator function which is called between each async step of the upload\n",
              " * process.\n",
              " * @param {string} inputId Element ID of the input file picker element.\n",
              " * @param {string} outputId Element ID of the output display.\n",
              " * @return {!Iterable<!Object>} Iterable of next steps.\n",
              " */\n",
              "function* uploadFilesStep(inputId, outputId) {\n",
              "  const inputElement = document.getElementById(inputId);\n",
              "  inputElement.disabled = false;\n",
              "\n",
              "  const outputElement = document.getElementById(outputId);\n",
              "  outputElement.innerHTML = '';\n",
              "\n",
              "  const pickedPromise = new Promise((resolve) => {\n",
              "    inputElement.addEventListener('change', (e) => {\n",
              "      resolve(e.target.files);\n",
              "    });\n",
              "  });\n",
              "\n",
              "  const cancel = document.createElement('button');\n",
              "  inputElement.parentElement.appendChild(cancel);\n",
              "  cancel.textContent = 'Cancel upload';\n",
              "  const cancelPromise = new Promise((resolve) => {\n",
              "    cancel.onclick = () => {\n",
              "      resolve(null);\n",
              "    };\n",
              "  });\n",
              "\n",
              "  // Wait for the user to pick the files.\n",
              "  const files = yield {\n",
              "    promise: Promise.race([pickedPromise, cancelPromise]),\n",
              "    response: {\n",
              "      action: 'starting',\n",
              "    }\n",
              "  };\n",
              "\n",
              "  cancel.remove();\n",
              "\n",
              "  // Disable the input element since further picks are not allowed.\n",
              "  inputElement.disabled = true;\n",
              "\n",
              "  if (!files) {\n",
              "    return {\n",
              "      response: {\n",
              "        action: 'complete',\n",
              "      }\n",
              "    };\n",
              "  }\n",
              "\n",
              "  for (const file of files) {\n",
              "    const li = document.createElement('li');\n",
              "    li.append(span(file.name, {fontWeight: 'bold'}));\n",
              "    li.append(span(\n",
              "        `(${file.type || 'n/a'}) - ${file.size} bytes, ` +\n",
              "        `last modified: ${\n",
              "            file.lastModifiedDate ? file.lastModifiedDate.toLocaleDateString() :\n",
              "                                    'n/a'} - `));\n",
              "    const percent = span('0% done');\n",
              "    li.appendChild(percent);\n",
              "\n",
              "    outputElement.appendChild(li);\n",
              "\n",
              "    const fileDataPromise = new Promise((resolve) => {\n",
              "      const reader = new FileReader();\n",
              "      reader.onload = (e) => {\n",
              "        resolve(e.target.result);\n",
              "      };\n",
              "      reader.readAsArrayBuffer(file);\n",
              "    });\n",
              "    // Wait for the data to be ready.\n",
              "    let fileData = yield {\n",
              "      promise: fileDataPromise,\n",
              "      response: {\n",
              "        action: 'continue',\n",
              "      }\n",
              "    };\n",
              "\n",
              "    // Use a chunked sending to avoid message size limits. See b/62115660.\n",
              "    let position = 0;\n",
              "    do {\n",
              "      const length = Math.min(fileData.byteLength - position, MAX_PAYLOAD_SIZE);\n",
              "      const chunk = new Uint8Array(fileData, position, length);\n",
              "      position += length;\n",
              "\n",
              "      const base64 = btoa(String.fromCharCode.apply(null, chunk));\n",
              "      yield {\n",
              "        response: {\n",
              "          action: 'append',\n",
              "          file: file.name,\n",
              "          data: base64,\n",
              "        },\n",
              "      };\n",
              "\n",
              "      let percentDone = fileData.byteLength === 0 ?\n",
              "          100 :\n",
              "          Math.round((position / fileData.byteLength) * 100);\n",
              "      percent.textContent = `${percentDone}% done`;\n",
              "\n",
              "    } while (position < fileData.byteLength);\n",
              "  }\n",
              "\n",
              "  // All done.\n",
              "  yield {\n",
              "    response: {\n",
              "      action: 'complete',\n",
              "    }\n",
              "  };\n",
              "}\n",
              "\n",
              "scope.google = scope.google || {};\n",
              "scope.google.colab = scope.google.colab || {};\n",
              "scope.google.colab._files = {\n",
              "  _uploadFiles,\n",
              "  _uploadFilesContinue,\n",
              "};\n",
              "})(self);\n",
              "</script> "
            ]
          },
          "metadata": {}
        }
      ]
    },
    {
      "cell_type": "markdown",
      "metadata": {
        "id": "NX17LoUA1ViC"
      },
      "source": [
        "En la salida de la celda anterior, verán el texto\n",
        "\n",
        "```\n",
        "Saving 2022.2 - Sysarmy - Encuesta de remuneración salarial Argentina - Argentina.csv to XXX\n",
        "```\n",
        "El texto XXX será la clave del archivo, que se utiliza para identificarlo entre todos los archivos subidos. Tener en cuenta que esta clave no necesariamente es el nombre del archivo.\n"
      ]
    },
    {
      "cell_type": "code",
      "metadata": {
        "id": "__ECd-9myy6k"
      },
      "source": [
        "file_key = '2022.2 - Sysarmy - Encuesta de remuneración salarial Argentina - Argentina.csv'  # Replace for correspoing key\n",
        "df = pd.read_csv(io.StringIO(uploaded[file_key].decode('utf-8')))"
      ],
      "execution_count": null,
      "outputs": []
    },
    {
      "cell_type": "markdown",
      "metadata": {
        "id": "vo0-WxeI16h3"
      },
      "source": [
        "Con esta operación, hemos creado un DataFrame de pandas en base al archivo de respuestas. Un DataFrame no es más que una tabla sobre la cual podemos aplicar un montón de operaciones similares a las de Excel o a las SQL. En esta notebook no pretendemos hacer un tutorial de pandas, el Internet está lleno de ellos, pero sí iremos explicando cómo implementar determinadas operaciones necesarias para el análisis de este conjunto de datos.\n",
        "\n",
        "Veamos qué valoir tiene la variable `df`."
      ]
    },
    {
      "cell_type": "code",
      "metadata": {
        "id": "V5k7IUmG0ptW"
      },
      "source": [
        "df[:10]"
      ],
      "execution_count": null,
      "outputs": []
    },
    {
      "cell_type": "markdown",
      "metadata": {
        "id": "LE_XEAA02Fro"
      },
      "source": [
        "## Selección de filas\n",
        "\n",
        "¡No es lo que esperamos! Si vemos el conjunto de datos, efectivamente tiene celdas en blanco en la parte superior, y el nombre de las columnas aparece en la fila 9. Con Pandas podemos manejar estas situaciones pasando argumentos específicos a la función `pd.read_csv`"
      ]
    },
    {
      "cell_type": "code",
      "metadata": {
        "id": "qlUQleaS2cYL"
      },
      "source": [
        "df_fixed = pd.read_csv(\n",
        "    io.StringIO(uploaded[file_key].decode('utf-8')),\n",
        "    skiprows=range(8), header=1)"
      ],
      "execution_count": null,
      "outputs": []
    },
    {
      "cell_type": "code",
      "metadata": {
        "id": "mxS1Zwnn3uC4"
      },
      "source": [
        "df_fixed[:3]"
      ],
      "execution_count": null,
      "outputs": []
    },
    {
      "cell_type": "markdown",
      "metadata": {
        "id": "7hPqJAun2h5A"
      },
      "source": [
        "## Renombrar columnas"
      ]
    },
    {
      "cell_type": "markdown",
      "metadata": {
        "id": "sO9wLpYI0l64"
      },
      "source": [
        "Para trabajar más cómodamente, renombraremos las columnas de DataFrame. Tengan cuidado de que el orden de los nombres nuevos se corresponda con el contenido de cada columna.\n"
      ]
    },
    {
      "cell_type": "code",
      "metadata": {
        "id": "K_G1sEljywQ3"
      },
      "source": [
        "df_fixed.columns"
      ],
      "execution_count": null,
      "outputs": []
    },
    {
      "cell_type": "code",
      "metadata": {
        "id": "mhhPGu3L6N75"
      },
      "source": [
        "new_columns = {\n",
        "    'profile': {\n",
        "      'Me identifico (género)': 'gender', 'Tengo (edad)': 'age', 'Años de experiencia': 'years_experience',\n",
        "      'Máximo nivel de estudios': 'studies_level',\n",
        "      'Estado': 'studies_level_state', 'Carrera': 'career', 'Universidad': 'university',\n",
        "      '¿Participaste de algún Boot Camp?': 'boot_camp',\n",
        "      'Si participaste de un Boot Camp, ¿qué carrera estudiaste?': 'boot_camp_carrer',\n",
        "      '¿Programás como hobbie?': 'programming_as_hobby',\n",
        "      'Orientación sexual': 'sexual_orientation',\n",
        "      '¿Tenés algún tipo de discapacidad?': 'has_disabilities',\n",
        "      '¿Sentís que alguna vez los prejuicios culturales/sociales sobre tu orientación, género, etnia o discapacidad pudieron obstaculizar el que consigas un trabajo?': 'has_disabilities_hiring_difficulties',\n",
        "  },\n",
        "  'work' : {\n",
        "      'Estoy trabajando en': 'country',\n",
        "      'Dónde estás trabajando': 'province', 'Antigüedad en la empresa actual': 'years_in_company',\n",
        "      'Tiempo en el puesto actual': 'years_in_current_position', '¿Cuántas personas a cargo tenés?': 'people_in_charge_of',\n",
        "      '¿Tenés guardias?': 'on_call_duty',\n",
        "      '¿Porcentaje, bruto o neto?': 'on_call_duty_charge_type', 'Modalidad de trabajo':'work_modality', 'Tipo de contrato':'contract_type', 'Dedicación': 'dedication',\n",
        "      'Sufriste o presenciaste situaciones de violencia y/o acoso por motivo de': 'has_violence_situations',\n",
        "      '¿Considerás que tenés oportunidades de crecimiento siendo quien sos dentro de tu organización?':'listen_more_men',\n",
        "      '¿Sentís que podés ser vos en tu trabajo?': 'yourself_in_your_work',\n",
        "      'En el último año, en tu trabajo ¿recibiste o escuchaste comentarios que considerás inapropiados, subidos de tono y/o discriminatorios?':'lastyear_discrimination',\n",
        "  },\n",
        "  'tools': {\n",
        "      'Plataformas que utilizas en tu puesto actual': 'platform', 'Lenguajes de programación o tecnologías que utilices en tu puesto actual': 'programming_languages',\n",
        "      'Frameworks, herramientas y librerías que utilices en tu puesto actual': 'frameworks', 'Bases de datos': 'data_bases',\n",
        "      'QA / Testing': 'qa_testing', 'IDEs': 'IDEs',\n",
        "      '¿Qué SO usás en tu laptop/PC para trabajar?': 'work_pc_os', '¿Y en tu celular?': 'cellphone_os'\n",
        "  },\n",
        "  'salary': {\n",
        "      'Cuánto cobrás por guardia': 'on_call_duty_charge',\n",
        "      'Último salario mensual  o retiro BRUTO (en tu moneda local)': 'monthly_BRUTO',\n",
        "      'Último salario mensual o retiro NETO (en tu moneda local)': 'monthly_NETO',\n",
        "      'Pagos en dólares': 'in_usd', 'Si tu sueldo está dolarizado ¿Cuál fue el último valor del dólar que tomaron?':'last_dollar_value','¿Qué tan conforme estás con tus ingresos laborales?': 'satisfaction',\n",
        "      'Cómo considerás que están tus ingresos laborales comparados con el semestre anterior': 'comparison_last_semester',\n",
        "      'Recibís algún tipo de bono': 'has_bonus', 'A qué está atado el bono': 'bonus_tied_to',\n",
        "      'Pagos en criptomonedas':'pay_cripto','¿Qué porcentaje o monto recibís en criptomonedas?':'%_cripto',\n",
        "      '¿Tuviste actualizaciones de tus ingresos laborales durante 2022?': 'inflation_adjustment',\n",
        "      '¿De qué % fue el ajuste total acumulado?': 'percentage_inflation_adjustment',\n",
        "      '¿En qué mes fue el último ajuste? *': 'month_last_inflation_adjustment','Con qué beneficios contas':'benefit'\n",
        "  },\n",
        "  'company' : {\n",
        "      'Cantidad de personas en tu organización': 'employee_number', 'Actividad principal': 'main_activity',\n",
        "      '¿La recomendás como un buen lugar para trabajar?': 'recommended',\n",
        "      '¿Cuál es el compromiso que tiene tu empresa con la diversidad, la equidad y la inclusión?': 'diversity_policies',\n",
        "      'Beneficios extra': 'extra_benefits', '¿Instauraron algún beneficio nuevo?': 'new_benefits',\n",
        "      '¿Qué tanto sentís que te está apoyando tu empresa/organización durante la pandemia?': 'pandemic_support',\n",
        "      '¿Cuántas veces a la semana vas a trabajar a la oficina?':'days_in_the_office',\n",
        "  }\n",
        "}\n"
      ],
      "execution_count": null,
      "outputs": []
    },
    {
      "cell_type": "code",
      "metadata": {
        "id": "r0xlsKaBk0RL"
      },
      "source": [
        "def replace_columns(df, new_columns):\n",
        "  new_col_names = {\n",
        "    original_name: category + '_' + new_name\n",
        "    for category, cols in new_columns.items()\n",
        "    for original_name, new_name in cols.items()\n",
        "  }\n",
        "  return df.rename(columns=new_col_names)"
      ],
      "execution_count": null,
      "outputs": []
    },
    {
      "cell_type": "code",
      "metadata": {
        "id": "Vviv_sqXdR5W"
      },
      "source": [
        "df_renamed = replace_columns(df_fixed, new_columns)\n",
        "df_renamed[:2]"
      ],
      "execution_count": null,
      "outputs": []
    },
    {
      "cell_type": "markdown",
      "metadata": {
        "id": "uSDnDiHArKx6"
      },
      "source": [
        "### Leer archivo desde URL\n",
        "\n",
        "Como realizar estas operaciones es un poco tedioso y requiere intervención manual, hemos subido el dataset a un servidor local de FaMAF para poder accederlos directamente a través de consultas HTTP (por ejemplo, desde un navegador).\n",
        "\n",
        "Otra forma de disponibilizar un conjunto de datos pequeño es creando un archivo en un repositorio de github o un gist."
      ]
    },
    {
      "cell_type": "markdown",
      "metadata": {
        "id": "y-Zx4i-o51jh"
      },
      "source": [
        "Primero, es necesario descargar el archivo ya procesado. El procedimiento es similar a leer el archivo.\n",
        "1. Se guarda el DataFrame en un archivo en el servidor remoto.\n",
        "2. Se descarga ese archivo."
      ]
    },
    {
      "cell_type": "code",
      "metadata": {
        "id": "3ou7t-TN6Sk2"
      },
      "source": [
        "df_renamed.to_csv(\"sysarmy_survey_2022_processed.csv\", index=False)"
      ],
      "execution_count": null,
      "outputs": []
    },
    {
      "cell_type": "code",
      "metadata": {
        "colab": {
          "base_uri": "https://localhost:8080/",
          "height": 17
        },
        "id": "EYZxGzTo6QA9",
        "outputId": "dc46ca42-1aaf-489a-e7eb-3868e8200b42"
      },
      "source": [
        "from google.colab import files\n",
        "files.download(\"sysarmy_survey_2022_processed.csv\")"
      ],
      "execution_count": null,
      "outputs": [
        {
          "output_type": "display_data",
          "data": {
            "text/plain": [
              "<IPython.core.display.Javascript object>"
            ],
            "application/javascript": [
              "\n",
              "    async function download(id, filename, size) {\n",
              "      if (!google.colab.kernel.accessAllowed) {\n",
              "        return;\n",
              "      }\n",
              "      const div = document.createElement('div');\n",
              "      const label = document.createElement('label');\n",
              "      label.textContent = `Downloading \"${filename}\": `;\n",
              "      div.appendChild(label);\n",
              "      const progress = document.createElement('progress');\n",
              "      progress.max = size;\n",
              "      div.appendChild(progress);\n",
              "      document.body.appendChild(div);\n",
              "\n",
              "      const buffers = [];\n",
              "      let downloaded = 0;\n",
              "\n",
              "      const channel = await google.colab.kernel.comms.open(id);\n",
              "      // Send a message to notify the kernel that we're ready.\n",
              "      channel.send({})\n",
              "\n",
              "      for await (const message of channel.messages) {\n",
              "        // Send a message to notify the kernel that we're ready.\n",
              "        channel.send({})\n",
              "        if (message.buffers) {\n",
              "          for (const buffer of message.buffers) {\n",
              "            buffers.push(buffer);\n",
              "            downloaded += buffer.byteLength;\n",
              "            progress.value = downloaded;\n",
              "          }\n",
              "        }\n",
              "      }\n",
              "      const blob = new Blob(buffers, {type: 'application/binary'});\n",
              "      const a = document.createElement('a');\n",
              "      a.href = window.URL.createObjectURL(blob);\n",
              "      a.download = filename;\n",
              "      div.appendChild(a);\n",
              "      a.click();\n",
              "      div.remove();\n",
              "    }\n",
              "  "
            ]
          },
          "metadata": {}
        },
        {
          "output_type": "display_data",
          "data": {
            "text/plain": [
              "<IPython.core.display.Javascript object>"
            ],
            "application/javascript": [
              "download(\"download_1f796e56-7376-40ff-987e-0877b8a794b7\", \"sysarmy_survey_2022_processed.csv\", 3051633)"
            ]
          },
          "metadata": {}
        }
      ]
    },
    {
      "cell_type": "markdown",
      "metadata": {
        "id": "Ug7JEpuV6vkv"
      },
      "source": [
        "Subiremos este archivo con el dataset procesado a un servidor de la universidad. \n",
        "\n",
        "Pandas permite leer archivos `.csv` desde una URL, sin necesidad de descargarlos en el sistema de archivos local. La siguiente celda funcionará tanto en Colaboratory como en Jupyter, y será el método por defecto de acceder a los datos en las notebooks siguientes."
      ]
    },
    {
      "cell_type": "code",
      "metadata": {
        "id": "UR_7-Sm_r3Oa"
      },
      "source": [
        "url = 'https://raw.githubusercontent.com/DiploDatos/AnalisisyVisualizacion/master/sysarmy_survey_2022_processed.csv'\n",
        "df2 = pd.read_csv(url)"
      ],
      "execution_count": null,
      "outputs": []
    },
    {
      "cell_type": "code",
      "metadata": {
        "id": "gckNHXXLktJ4"
      },
      "source": [
        "df2[:3]"
      ],
      "execution_count": null,
      "outputs": []
    },
    {
      "cell_type": "code",
      "metadata": {
        "id": "gWNM-P_y7PbR"
      },
      "source": [],
      "execution_count": null,
      "outputs": []
    }
  ]
}